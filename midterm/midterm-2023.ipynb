{
  "cells": [
    {
      "cell_type": "markdown",
      "metadata": {
        "id": "Z9OlHSCx9MCj"
      },
      "source": [
        "# HDS5210-2022 Midterm\n",
        "\n",
        "In the midterm, you're going to use all the programming and data management skills you've developed so far to build a risk calculator that pretends to be integrated with a clinical registry.  You'll compute the PRIEST COVID-19 Clinical Severity Score for a series of patients and, based on their risk of an adverse outcome, query a REST web service to find a hospital to transfer them to. The end result of your work will be a list of instructions on where each patient should be discharged given their risk and various characteristics of the patient.\n",
        "\n",
        "Each step in the midterm will build up to form your complete solution.\n",
        "\n",
        "**Make sure you write good docstrings and doctests along the way!!**\n",
        "\n",
        "**The midterm is due at 11:59 PM CST on Monday, October 23rd.**\n",
        "\n",
        "---"
      ]
    },
    {
      "cell_type": "markdown",
      "metadata": {
        "id": "3miiVYxV9MCm"
      },
      "source": [
        "## Step 1: Calculate PRIEST Clinical Severity Score\n",
        "\n",
        "This scoring algorithm can be found [here on the MDCalc website](https://www.mdcalc.com/priest-covid-19-clinical-severity-score#evidence).  \n",
        "\n",
        "1. You will need to write a function called **priest()** with the following input parameters.  \n",
        " * Sex (Gender assigned at birth)\n",
        " * Age in years\n",
        " * Respiratory rate in breaths per minute\n",
        " * Oxygen saturation as a percent between 0 and 1\n",
        " * Heart rate in beats per minute\n",
        " * Systolic BP in mmHg\n",
        " * Temperature in degrees C\n",
        " * Alertness as a string description\n",
        " * Inspired Oxygen as as string description\n",
        " * Performance Status as a string description\n",
        "2. The function will need to follow the algorithm provided on the MDCalc website to compute a risk percentage that should be returned as a numeric value between 0 and 1.\n",
        "3. Be sure to use docstring documentation and at least three built-in docstring test cases.\n",
        "4. Assume that the input values that are strings could be any combination of upper or lower case. For example: 'male', 'Male', 'MALE', 'MalE' should all be interpretted by your code as male.\n",
        "5. If any of the inputs are invalid (for example a sex value that is not recognizable as male or female) your code should return None.\n",
        "\n",
        "NOTES:\n",
        "1. In the final step there is a table that translates from **PRIEST Score** to **30-day probability of an outcome** but the last two probabilities are shown as ranges (59-88% and >99%).  Our code needs to output a single number, however. For our code, use the following rule:\n",
        " * If PRIEST score is between 17 and 25, the probability you return should be 0.59\n",
        " * If PRIEST score is greater than or equal to 26, the probability you return should be 0.99\n"
      ]
    },
    {
      "cell_type": "code",
      "execution_count": 231,
      "metadata": {
        "id": "VgNQhstY9MCn"
      },
      "outputs": [],
      "source": [
        "def priest(sex,Age,respiratory_rate,oxygen_saturation,heart_rate,\n",
        "           systolic_bp,temperature,alertness,\n",
        "    inspired_oxygen,performance_status):\n",
        "  \"\"\"\n",
        "  (str,int,int,float,int,int,float,str,str,str) -> float\n",
        "  Here we are having the number of medical data such as the patient's age, sex, vital signs, and other health indicators,\n",
        "  all these are assigned to the priest function.It helps us to understand and calculate the score\n",
        "   in numbers according to the specific criteria,by checking into the evidence provided from the above URL\n",
        "   .Now we are assigning the percentage values and its score.patients severity is represented\n",
        "    by the percentage derived from the score.Finally we did the return percentage.\n",
        "  >>> priest('male', 45, 18, 0.97, 70, 120, 37.5, 'alert', 'air', 'Unrestricted normal activity')\n",
        "  0.01\n",
        "\n",
        "  >>> priest('female',50,12,0.92,51,111,38,'alert','supplemental oxygen','limited self care')\n",
        "  0.02\n",
        "\n",
        "  >>> priest('female',65,11,0.94,41,101,35.1,'alert','supplemental oxygen','Limited self care')\n",
        "  0.02\n",
        "\n",
        "  \"\"\"\n",
        "  score=0\n",
        "  if sex.lower()== 'male':\n",
        "     score+=1\n",
        "  elif sex.lower()== 'female':\n",
        "     score+=0\n",
        "  if Age>=16 and Age <= 49:\n",
        "     score+=0\n",
        "  elif Age>=50 and Age<=65:\n",
        "     score+=2\n",
        "  elif Age>=66 and Age<=80:\n",
        "    score+=3\n",
        "  elif Age>=80:\n",
        "     score+=4\n",
        "  if respiratory_rate <=9:\n",
        "    score+=3\n",
        "  elif respiratory_rate>=9 and respiratory_rate<=11:\n",
        "    score+=1\n",
        "  elif respiratory_rate>12 and respiratory_rate<=20:\n",
        "    score+=0\n",
        "  elif respiratory_rate>=21 and respiratory_rate<=24:\n",
        "    score+=2\n",
        "  elif respiratory_rate>=24:\n",
        "    score+=3\n",
        "  if oxygen_saturation>=0.95:\n",
        "    score+=0\n",
        "  elif oxygen_saturation>=0.94 and oxygen_saturation<=0.95:\n",
        "    score+=1\n",
        "  elif oxygen_saturation>=0.92 and oxygen_saturation<=0.93:\n",
        "    score+=2\n",
        "  elif oxygen_saturation<=0.92:\n",
        "     score+=3\n",
        "  if heart_rate<=41:\n",
        "    score+=1\n",
        "  elif heart_rate>=41 and heart_rate<=50:\n",
        "    score+=1\n",
        "  elif heart_rate>=51 and heart_rate<=90:\n",
        "    score+=0\n",
        "  elif heart_rate>=91 and heart_rate<=110:\n",
        "    score+=1\n",
        "  elif heart_rate>=111 and heart_rate<=130:\n",
        "    score+=2\n",
        "  elif heart_rate >=130:\n",
        "    score+=3\n",
        "  if systolic_bp<=91:\n",
        "    score+=3\n",
        "  elif systolic_bp>=91 and systolic_bp<=100:\n",
        "    score+=2\n",
        "  elif systolic_bp>=101 and systolic_bp<=110:\n",
        "    score+=1\n",
        "  elif systolic_bp>=111 and systolic_bp<=219:\n",
        "    score+=0\n",
        "  elif systolic_bp>=219:\n",
        "    score+=3\n",
        "  if temperature<=35.1:\n",
        "    score+=3\n",
        "  elif temperature>=35.1 and temperature<=36.0:\n",
        "    score+=1\n",
        "  elif temperature>=36.1 and temperature<=38.0:\n",
        "    score+=0\n",
        "  elif temperature>=38.1 and temperature<=39.0:\n",
        "    score+=1\n",
        "  elif temperature>=39.0:\n",
        "    score+=2\n",
        "  if alertness== 'alert':\n",
        "    score+=0\n",
        "  elif alertness=='Confused or not alert':\n",
        "    score+=3\n",
        "  if inspired_oxygen=='air':\n",
        "    score+=0\n",
        "  elif inspired_oxygen=='supplemental oxygen':\n",
        "    score+=2\n",
        "  if performance_status=='Unrestricted normal activity':\n",
        "    score+=0\n",
        "  elif performance_status=='Limited strenuous activity, can do light activity':\n",
        "    score+=1\n",
        "  elif performance_status=='Limited activity, can self care':\n",
        "    score+=2\n",
        "  elif performance_status=='Limited self care':\n",
        "    score+=3\n",
        "  elif performance_status=='Bed/chair bound, no self care':\n",
        "    score+=4\n",
        "  if score==0 or score==1:\n",
        "   percentage=0.01\n",
        "  elif score>=2 or score<=3:\n",
        "   percentage=0.02\n",
        "  elif score==4:\n",
        "   percentage=0.03\n",
        "  elif score==5:\n",
        "   percentage=0.09\n",
        "  elif score==6:\n",
        "   percentage=0.15\n",
        "  elif score==7:\n",
        "   percentage=0.18\n",
        "  elif score==8:\n",
        "   percentage=0.22\n",
        "  elif score==9:\n",
        "   percentage=0.26\n",
        "  elif score==10:\n",
        "   percentage=0.29\n",
        "  elif score==11:\n",
        "   percentage=0.34\n",
        "  elif score==12:\n",
        "   percentage=0.38\n",
        "  elif score==13:\n",
        "   percentage=0.46\n",
        "  elif score ==14:\n",
        "   percentage=0.47\n",
        "  elif score==15:\n",
        "   percentage =0.49\n",
        "  elif score==16:\n",
        "   percentage =0.55\n",
        "  elif score>=17 or score <=25:\n",
        "   percentage>=0.59 or percentage <=0.88\n",
        "  elif score>=26:\n",
        "   percentage>=0.99\n",
        "  return percentage"
      ]
    },
    {
      "cell_type": "code",
      "source": [
        "priest('male', 45, 18, 0.97, 70, 120, 37.5, 'alert', 'air', 'Unrestricted normal activity')\n"
      ],
      "metadata": {
        "id": "WrPoOUg_FT31",
        "outputId": "1c2d60d9-cd29-4623-ca1b-fc40d14a1143",
        "colab": {
          "base_uri": "https://localhost:8080/"
        }
      },
      "execution_count": 101,
      "outputs": [
        {
          "output_type": "execute_result",
          "data": {
            "text/plain": [
              "0.01"
            ]
          },
          "metadata": {},
          "execution_count": 101
        }
      ]
    },
    {
      "cell_type": "code",
      "source": [
        "priest('female',50,12,0.92,51,111,38.0,'alert','supplemental oxygen','limited self care')"
      ],
      "metadata": {
        "id": "0vzi4GYIGxcy",
        "outputId": "591731bf-09e3-420e-d2e3-390ef669d186",
        "colab": {
          "base_uri": "https://localhost:8080/"
        }
      },
      "execution_count": 102,
      "outputs": [
        {
          "output_type": "execute_result",
          "data": {
            "text/plain": [
              "0.02"
            ]
          },
          "metadata": {},
          "execution_count": 102
        }
      ]
    },
    {
      "cell_type": "code",
      "source": [
        "priest('female',65,11,0.94,41,101,35.1,'alert','supplemental oxygen','Limited self care')"
      ],
      "metadata": {
        "id": "DMFkET4CDGxK",
        "outputId": "ca4a2767-cefa-4cd8-cafc-d6e6a475017b",
        "colab": {
          "base_uri": "https://localhost:8080/"
        }
      },
      "execution_count": 103,
      "outputs": [
        {
          "output_type": "execute_result",
          "data": {
            "text/plain": [
              "0.02"
            ]
          },
          "metadata": {},
          "execution_count": 103
        }
      ]
    },
    {
      "cell_type": "code",
      "execution_count": 104,
      "metadata": {
        "id": "2-TMytdw9MCn",
        "outputId": "c42d9cf6-65f0-444a-9d12-fd1bc7eef5ba",
        "colab": {
          "base_uri": "https://localhost:8080/"
        }
      },
      "outputs": [
        {
          "output_type": "stream",
          "name": "stdout",
          "text": [
            "Finding tests in NoName\n",
            "Trying:\n",
            "    priest('male', 45, 18, 0.97, 70, 120, 37.5, 'alert', 'air', 'Unrestricted normal activity')\n",
            "Expecting:\n",
            "    0.01\n",
            "ok\n",
            "Trying:\n",
            "    priest('female',50,12,0.92,51,111,38,'alert','supplemental oxygen','limited self care')\n",
            "Expecting:\n",
            "    0.02\n",
            "ok\n",
            "Trying:\n",
            "    priest('female',65,11,0.94,41,101,35.1,'alert','supplemental oxygen','Limited self care')\n",
            "Expecting:\n",
            "    0.02\n",
            "ok\n"
          ]
        }
      ],
      "source": [
        "import doctest\n",
        "doctest.run_docstring_examples(priest, globals(),verbose=True)"
      ]
    },
    {
      "cell_type": "markdown",
      "metadata": {
        "id": "mXQeg8UB9MCo"
      },
      "source": [
        "## Part 2: Find a hospital\n",
        "\n",
        "The next thing we have to do is figure out where to send this particular patient.  The guidelines on where to send a patient are based on their age (pediatric, adult, geriatric), sex, and risk percentage.  Luckily, you don't have to implement these rules. I already have. All you have to do is use a REST web service that I've created for you.\n",
        "\n",
        "You'll want to use Python to make a call to my REST web service similar to the example URL below. The first part of the URL will be the same for everyone and every request that you make. What you will need to modify for each of your requests is the information after the question mark.\n",
        "\n",
        "```\n",
        "https://oumdj6oci2.execute-api.us-east-1.amazonaws.com/prd/?age=40&sex=male&risk_pct=0.1\n",
        "```\n",
        "\n",
        "The example above asks my web service where a 40-year old male with a risk of 10% should go.  What the web service will return back is a JSON string containing the information you need.  That JSON will look like this:\n",
        "\n",
        "```json\n",
        "{\n",
        "  \"age\": \"40\",\n",
        "  \"sex\": \"male\",\n",
        "  \"risk\": \"0.1\",\n",
        "  \"hospital\": \"Southwest Hospital and Medical Center\"\n",
        "}\n",
        "```\n",
        "\n",
        "My function is not smart enough to understand `'MALE'` is the same as `'male'`.  You have to send it exactly `'male'` or `'female'`\n",
        "\n",
        "1. Your job is to write a function called **find_hospital()** that takes age, sex, and risk as parameters.\n",
        "2. Your function should call this REST web service using the `requests` module\n",
        "3. Then your function will need to interpret the JSON it gets and return just the name of the hospital\n",
        "4. If anything fails, return None\n",
        "5. Include a good docstring with at least three test cases.\n"
      ]
    },
    {
      "cell_type": "code",
      "execution_count": 232,
      "metadata": {
        "id": "VKC5Kyq39MCp"
      },
      "outputs": [],
      "source": [
        "def find_hospital(age,sex,risk_patient):\n",
        "  \"\"\"\n",
        "  ('int','str','float')->str\n",
        "  Here we are using the find_hospital function which is having variables of age,sex,risk_patient,now we are assigning sex as sex.lower.\n",
        "  then by importing the requests we are using the URL given  with the sex ,the function returns the name of the recommended hospital as a string.\n",
        "  response is equal to the requests.get URL.Finally return response.json is assigning hospital.\n",
        "\n",
        "  >>> find_hospital(75,'female',0.75)\n",
        "  'Southwest Hospital and Medical Center'\n",
        "\n",
        "  >>> find_hospital(49,'male',0.3)\n",
        "  'Southwest Hospital and Medical Center'\n",
        "\n",
        "  \"\"\"\n",
        "\n",
        "  sex=sex.lower\n",
        "\n",
        "  import requests\n",
        "  URL=\"https://oumdj6oci2.execute-api.us-east-1.amazonaws.com/prd/?age=40&sex=male&risk_pct=0.1\".format(age,sex,risk_patient)\n",
        "\n",
        "  response=requests.get(URL)\n",
        "  return response.json()['hospital']"
      ]
    },
    {
      "cell_type": "code",
      "source": [
        "find_hospital(30,'female',1.8)"
      ],
      "metadata": {
        "id": "QcoXW2gqXuiw",
        "outputId": "80c3a111-0cf5-43ce-dd50-5c8100014043",
        "colab": {
          "base_uri": "https://localhost:8080/",
          "height": 35
        }
      },
      "execution_count": 233,
      "outputs": [
        {
          "output_type": "execute_result",
          "data": {
            "text/plain": [
              "'Southwest Hospital and Medical Center'"
            ],
            "application/vnd.google.colaboratory.intrinsic+json": {
              "type": "string"
            }
          },
          "metadata": {},
          "execution_count": 233
        }
      ]
    },
    {
      "cell_type": "code",
      "source": [
        "find_hospital(49,'male',0.3)"
      ],
      "metadata": {
        "id": "hzGlFKmLXZ76",
        "outputId": "1a49a54d-1909-4c4b-945c-fec4ca0329a3",
        "colab": {
          "base_uri": "https://localhost:8080/",
          "height": 35
        }
      },
      "execution_count": 234,
      "outputs": [
        {
          "output_type": "execute_result",
          "data": {
            "text/plain": [
              "'Southwest Hospital and Medical Center'"
            ],
            "application/vnd.google.colaboratory.intrinsic+json": {
              "type": "string"
            }
          },
          "metadata": {},
          "execution_count": 234
        }
      ]
    },
    {
      "cell_type": "code",
      "source": [
        "find_hospital(75,'female',0.75)"
      ],
      "metadata": {
        "id": "6XQqNqjdPvxW",
        "outputId": "4d55bf82-5ccd-423c-fc53-04b04175daaf",
        "colab": {
          "base_uri": "https://localhost:8080/",
          "height": 35
        }
      },
      "execution_count": 235,
      "outputs": [
        {
          "output_type": "execute_result",
          "data": {
            "text/plain": [
              "'Southwest Hospital and Medical Center'"
            ],
            "application/vnd.google.colaboratory.intrinsic+json": {
              "type": "string"
            }
          },
          "metadata": {},
          "execution_count": 235
        }
      ]
    },
    {
      "cell_type": "code",
      "execution_count": 236,
      "metadata": {
        "id": "9kYmEO5y9MCp",
        "outputId": "203541ef-e0d8-4dd7-b222-a72d7983633e",
        "colab": {
          "base_uri": "https://localhost:8080/"
        }
      },
      "outputs": [
        {
          "output_type": "stream",
          "name": "stdout",
          "text": [
            "Finding tests in NoName\n",
            "Trying:\n",
            "    find_hospital(75,'female',0.75)\n",
            "Expecting:\n",
            "    'Southwest Hospital and Medical Center'\n",
            "ok\n",
            "Trying:\n",
            "    find_hospital(49,'male',0.3)\n",
            "Expecting:\n",
            "    'Southwest Hospital and Medical Center'\n",
            "ok\n"
          ]
        }
      ],
      "source": [
        "import doctest\n",
        "doctest.run_docstring_examples(find_hospital, globals(),verbose=True)"
      ]
    },
    {
      "cell_type": "markdown",
      "metadata": {
        "id": "9UScgekL9MCp"
      },
      "source": [
        "## Part 3: Get the address for that hospital from a JSON file\n",
        "\n",
        "Great! Now we have code to tell us which hospital to send someone to... but we don't know where that hospital is. The next function we need to create is one that looks up the address of that hospital.  All of these hospitals are in Atlanta, Georgia.  We're going to use the list from this webpage to lookup the address for that hospital, based on its name.  https://www.officialusa.com/stateguides/health/hospitals/georgia.html\n",
        "\n",
        "Because we skipped the section about Beautiful Soup and working with HTML, I've converted this information into a JSON document for you.  It's available for you here.  Your code should retrieve this file using the `requests` module.\n",
        "\n",
        "`https://drive.google.com/uc?export=download&id=1fIFD-NkcdiMu941N4GjyMDWxiKsFJBw-`\n",
        "\n",
        "1. You need to create a function called **get_address()** that takes hospital name as a parameter and searches the data from this JSON file for the hospital you want to find.\n",
        "2. Your code will have to load the JSON and return the correct hospital based on name.\n",
        "3. If the hospital name isn't found, the function should return None.\n",
        "4. Be sure to use good docstring documentation and includes at least 3 test cases."
      ]
    },
    {
      "cell_type": "code",
      "source": [
        "import json\n",
        "import requests\n",
        "def get_address(hospital):\n",
        "\n",
        "  \"\"\"\n",
        "  (str)->str\n",
        "  Here we need to get the hospital adress.primarily we imported the json and later requests module then creating a function called get_address\n",
        "  which is having hospital parameter.Then by assigning given URL ,now response is equal to the requests.get URL ,now hospital_data is json.loads\n",
        "  >>> get_address(\"BACON COUNTY HOSPITAL\")\n",
        "  '302 SOUTH WAYNE STREET'\n",
        "\n",
        "  >>> get_address(\"PHOEBE PUTNEY MEMORIAL HOSPITAL\")\n",
        "  '417 THIRD AVENUE'\n",
        "\n",
        "  >>> get_address(\"COOK MEDICAL CENTER\")\n",
        "  '706 NORTH PARRISH AVENUE'\n",
        "\n",
        "  \"\"\"\n",
        "  hospital_list = requests.get('https://hds5210-data.s3.amazonaws.com/ga_hospitals.json')\n",
        "  hospital_list.raise_for_status()\n",
        "  hospitals = hospital_list.json()\n",
        "  hospital = hospital.upper()\n",
        "  if hospital in hospitals:\n",
        "    return hospitals[hospital]['ADDRESS']\n",
        "  else:\n",
        "    return None\n",
        "\n"
      ],
      "metadata": {
        "id": "awafO5i4dOul"
      },
      "execution_count": 237,
      "outputs": []
    },
    {
      "cell_type": "code",
      "source": [
        "get_address(\"BACON COUNTY HOSPITAL\")"
      ],
      "metadata": {
        "id": "QdJb0znDiI3s",
        "outputId": "c81dbbe1-f6e7-49f6-ee53-74792d1137d3",
        "colab": {
          "base_uri": "https://localhost:8080/",
          "height": 35
        }
      },
      "execution_count": 238,
      "outputs": [
        {
          "output_type": "execute_result",
          "data": {
            "text/plain": [
              "'302 SOUTH WAYNE STREET'"
            ],
            "application/vnd.google.colaboratory.intrinsic+json": {
              "type": "string"
            }
          },
          "metadata": {},
          "execution_count": 238
        }
      ]
    },
    {
      "cell_type": "code",
      "source": [
        "get_address(\"PHOEBE PUTNEY MEMORIAL HOSPITAL\")"
      ],
      "metadata": {
        "id": "3W7Kflxoh9Xu",
        "outputId": "bcd540f4-1698-4114-a0e3-4ee41a3bb583",
        "colab": {
          "base_uri": "https://localhost:8080/",
          "height": 35
        }
      },
      "execution_count": 239,
      "outputs": [
        {
          "output_type": "execute_result",
          "data": {
            "text/plain": [
              "'417 THIRD AVENUE'"
            ],
            "application/vnd.google.colaboratory.intrinsic+json": {
              "type": "string"
            }
          },
          "metadata": {},
          "execution_count": 239
        }
      ]
    },
    {
      "cell_type": "code",
      "source": [
        "get_address(\"COOK MEDICAL CENTER\")"
      ],
      "metadata": {
        "id": "FTBoEPJsdcNt",
        "outputId": "def88516-bddd-4136-83f2-bca1adf432f3",
        "colab": {
          "base_uri": "https://localhost:8080/",
          "height": 35
        }
      },
      "execution_count": 240,
      "outputs": [
        {
          "output_type": "execute_result",
          "data": {
            "text/plain": [
              "'706 NORTH PARRISH AVENUE'"
            ],
            "application/vnd.google.colaboratory.intrinsic+json": {
              "type": "string"
            }
          },
          "metadata": {},
          "execution_count": 240
        }
      ]
    },
    {
      "cell_type": "code",
      "source": [
        "import doctest\n",
        "doctest.run_docstring_examples(get_address, globals(),verbose=True)"
      ],
      "metadata": {
        "id": "bB8_mwqli_vs",
        "outputId": "99f3d4d5-4ca3-4a00-b2af-1fbbea31f0cb",
        "colab": {
          "base_uri": "https://localhost:8080/"
        }
      },
      "execution_count": 241,
      "outputs": [
        {
          "metadata": {
            "tags": null
          },
          "name": "stdout",
          "output_type": "stream",
          "text": [
            "Finding tests in NoName\n",
            "Trying:\n",
            "    get_address(\"BACON COUNTY HOSPITAL\")\n",
            "Expecting:\n",
            "    '302 SOUTH WAYNE STREET'\n",
            "ok\n",
            "Trying:\n",
            "    get_address(\"PHOEBE PUTNEY MEMORIAL HOSPITAL\")\n",
            "Expecting:\n",
            "    '417 THIRD AVENUE'\n",
            "ok\n",
            "Trying:\n",
            "    get_address(\"COOK MEDICAL CENTER\")\n",
            "Expecting:\n",
            "    '706 NORTH PARRISH AVENUE'\n",
            "ok\n"
          ]
        }
      ]
    },
    {
      "cell_type": "markdown",
      "metadata": {
        "id": "q9WRo9P59MCq"
      },
      "source": [
        "## Part 4: Run the risk calculator on a population\n",
        "\n",
        "At the link below, there is a file called `people.psv`.  It is a pipe-delimited (`|`) file with columns that match the inputs for the PRIEST calculation above.  Your code should use the `requests` module to retrieve the file from this URL.\n",
        "\n",
        "`https://drive.google.com/uc?export=download&id=1fLxJN9YGUqmqExrilxSS8furwUER5HHh`\n",
        "\n",
        "\n",
        "In addition, the file has a patient identifier in the first column.\n",
        "\n",
        "1. Write a function called **process_people()** that takes the file location above as its only parameter. Your Python program should use your code above to process all of these rows, determine the hospital and address, and return a list whose items are a dictionary like this: `{ patient_number: [sex, age, breath, o2sat, heart, systolic, temp, alertness, inspired, status, hospital, address]}`.  Look at the file in Part 5 for what the output looks like.\n",
        "2. Be sure to use good docstrings, but you don't need any tests in your doc strings.  I've provided those for you withe file in Part 5.\n",
        "\n",
        "\n",
        "**NOTE** that when running your code for all the 100 records in the `people.psv` file, it may take a few minutes to complete.  You're making multiple calls to the internet for each record, so that can take a little while.\n"
      ]
    },
    {
      "cell_type": "code",
      "source": [
        " def process_people(file_url):\n",
        "    \"\"\"\n",
        "    Process the people from the given file URL to determine their hospital and address.\n",
        "\n",
        "    Parameters:\n",
        "    - file_url (str): The URL of the pipe-delimited file containing the people's data.\n",
        "\n",
        "    Returns:\n",
        "    - list: A list of dictionaries containing the patient's data and their hospital and address.\n",
        "    \"\"\"\n",
        "\n",
        "    response = requests.get(file_url)\n",
        "\n",
        "    # Check if the request was successful\n",
        "    if response.status_code != 200:\n",
        "        return None\n",
        "\n",
        "    # Split the response text into lines\n",
        "    lines = response.text.strip().split('\\n')\n",
        "\n",
        "    # Initialize the results list\n",
        "    results = []\n",
        "\n",
        "    # Process each line (person) in the file\n",
        "    for line in lines[1:]:  # Skip the header line\n",
        "        parts = line.split('|')\n",
        "        patient_number = parts[0]\n",
        "        sex = parts[1]\n",
        "        age = int(parts[2])\n",
        "        respiratory_rate = int(parts[3])\n",
        "        oxygen_saturation = float(parts[4])\n",
        "        heart_rate = int(parts[5])\n",
        "        systolic_bp = int(parts[6])\n",
        "        temperature = float(parts[7])\n",
        "        alertness = parts[8]\n",
        "        inspired_oxygen = parts[9]\n",
        "        performed_status = parts[10]\n",
        "\n",
        "        # Calculate the PRIEST score and determine the risk percentage\n",
        "        risk_pct = priest(sex, age, respiratory_rate, oxygen_saturation, heart_rate, systolic_bp, temperature, alertness, inspired_oxygen, performed_status)\n",
        "\n",
        "        # Find the hospital based on the risk percentage\n",
        "        hospital = find_hospital(age, sex,risk_patient)\n",
        "\n",
        "        # Get the address of the hospital\n",
        "        address = get_address(hospital)\n",
        "\n",
        "        # Add the results to the results list\n",
        "        results.append({\n",
        "            patient_number: [sex, age, respiratory_rate, oxygen_saturation, heart_rate, systolic_bp, temperature, alertness, inspired_oxygen, performed_status, risk_patient, hospital, address]\n",
        "        })\n",
        "\n",
        "    return results\n",
        "    results = process_people(\"https://drive.google.com/uc?export=download&id=1fLxJN9YGUqmqExrilxSS8furwUER5HHh\")\n",
        "    print(results)"
      ],
      "metadata": {
        "id": "1jL97FyWnZv-"
      },
      "execution_count": 260,
      "outputs": []
    },
    {
      "cell_type": "markdown",
      "metadata": {
        "id": "6KNxBO_U9MCq"
      },
      "source": [
        "## Part 5: Checking your final results\n",
        "\n",
        "The final step is to check your results.  You should be able to compare your results to the output in `people_results.json` at the link below.  Write some code to check your results.  This does not need to be a function.\n",
        "\n",
        "`https://drive.google.com/uc?export=download&id=1gx1SSC20mO5XL6uYD0mdcM_cL91fcIW5`\n"
      ]
    },
    {
      "cell_type": "code",
      "execution_count": 259,
      "metadata": {
        "id": "d72eNXwR9MCq",
        "outputId": "1bc1b0ad-87ad-4764-97d0-9297060718ee",
        "colab": {
          "base_uri": "https://localhost:8080/"
        }
      },
      "outputs": [
        {
          "output_type": "stream",
          "name": "stdout",
          "text": [
            "not equal \n"
          ]
        }
      ],
      "source": [
        "import requests\n",
        "x=requests.get('https://hds5210-data.s3.amazonaws.com/people_results.json')\n",
        "y=x.json()\n",
        "if y==data:\n",
        "    print(\"equal\")\n",
        "else:\n",
        "    print(\"not equal \")"
      ]
    },
    {
      "cell_type": "code",
      "execution_count": 134,
      "metadata": {
        "id": "kkZz83mJ9MCq"
      },
      "outputs": [],
      "source": []
    },
    {
      "cell_type": "markdown",
      "metadata": {
        "id": "8DIv9i259MCr"
      },
      "source": [
        "---\n",
        "\n",
        "## Check your work above\n",
        "\n",
        "If you didn't get them all correct, take a few minutes to think through those that aren't correct.\n",
        "\n",
        "\n",
        "## Submitting Your Work\n",
        "\n",
        "Submit your work as usual into a folder named `midterm`"
      ]
    },
    {
      "cell_type": "markdown",
      "metadata": {
        "id": "gOAktrGs9MCr"
      },
      "source": [
        "---"
      ]
    }
  ],
  "metadata": {
    "kernelspec": {
      "display_name": "Python 3",
      "language": "python",
      "name": "python3"
    },
    "language_info": {
      "codemirror_mode": {
        "name": "ipython",
        "version": 3
      },
      "file_extension": ".py",
      "mimetype": "text/x-python",
      "name": "python",
      "nbconvert_exporter": "python",
      "pygments_lexer": "ipython3",
      "version": "3.9.16"
    },
    "colab": {
      "provenance": []
    }
  },
  "nbformat": 4,
  "nbformat_minor": 0
}