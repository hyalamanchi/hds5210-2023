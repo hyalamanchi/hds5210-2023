{
  "cells": [
    {
      "cell_type": "markdown",
      "metadata": {
        "id": "view-in-github",
        "colab_type": "text"
      },
      "source": [
        "<a href=\"https://colab.research.google.com/github/hyalamanchi/hds5210-2023/blob/main/week13/week13_assignment_2.ipynb\" target=\"_parent\"><img src=\"https://colab.research.google.com/assets/colab-badge.svg\" alt=\"Open In Colab\"/></a>"
      ]
    },
    {
      "cell_type": "markdown",
      "metadata": {
        "nbgrader": {
          "grade": false,
          "grade_id": "cell-fc1c39d0d6f8b82a",
          "locked": true,
          "schema_version": 1,
          "solution": false
        },
        "id": "RL4B5eDUt4d5"
      },
      "source": [
        "# Week 13 Programming Assignment\n",
        "\n",
        "As you're working on identifying data for your final project, it's helpful to spend some time exploring your various data files.  For this week's assignment, I'd like you to take a few of the ideas from the the lectures, review assignment, and tonight's lecture to start exploring the data you plan to use for the final project.\n",
        "\n",
        "For the following activities, you can use just one of the data files that you've identified, or you can do the activities using different data files.  That's up to you.  Please describe what you're doing in a Markdown cell or in the comments of your code.  When you've completed the assignment, submit it as normal."
      ]
    },
    {
      "cell_type": "markdown",
      "metadata": {
        "id": "bCew7bwOt4d8"
      },
      "source": [
        "### 1. Basic Statistics\n",
        "\n",
        "Use Python to read in your data file and show many rows and columns your data has."
      ]
    },
    {
      "cell_type": "code",
      "execution_count": 16,
      "metadata": {
        "id": "dvYU-_eKt4d8",
        "outputId": "81853065-4de4-4f17-ced2-c1e23f53c501",
        "colab": {
          "base_uri": "https://localhost:8080/"
        }
      },
      "outputs": [
        {
          "output_type": "stream",
          "name": "stdout",
          "text": [
            "   Unnamed: 0 restaurant                                       item  calories  \\\n",
            "0           1  Mcdonalds           Artisan Grilled Chicken Sandwich       380   \n",
            "1           2  Mcdonalds             Single Bacon Smokehouse Burger       840   \n",
            "2           3  Mcdonalds             Double Bacon Smokehouse Burger      1130   \n",
            "3           4  Mcdonalds  Grilled Bacon Smokehouse Chicken Sandwich       750   \n",
            "4           5  Mcdonalds   Crispy Bacon Smokehouse Chicken Sandwich       920   \n",
            "\n",
            "   cal_fat  total_fat  sat_fat  trans_fat  cholesterol  sodium  total_carb  \\\n",
            "0       60          7      2.0        0.0           95    1110          44   \n",
            "1      410         45     17.0        1.5          130    1580          62   \n",
            "2      600         67     27.0        3.0          220    1920          63   \n",
            "3      280         31     10.0        0.5          155    1940          62   \n",
            "4      410         45     12.0        0.5          120    1980          81   \n",
            "\n",
            "   fiber  sugar  protein  vit_a  vit_c  calcium  salad  \n",
            "0    3.0     11     37.0    4.0   20.0     20.0  Other  \n",
            "1    2.0     18     46.0    6.0   20.0     20.0  Other  \n",
            "2    3.0     18     70.0   10.0   20.0     50.0  Other  \n",
            "3    2.0     18     55.0    6.0   25.0     20.0  Other  \n",
            "4    4.0     18     46.0    6.0   20.0     20.0  Other  \n",
            "Rows: 515\n",
            "Columns: 18\n"
          ]
        }
      ],
      "source": [
        "import pandas as pd\n",
        "\n",
        "df_fast_food = pd.read_csv(\"https://raw.githubusercontent.com/rfordatascience/tidytuesday/master/data/2018/2018-09-04/fastfood_calories.csv\")\n",
        "\n",
        "print(df_fast_food.head())\n",
        "print(f\"Rows: {df_fast_food.shape[0]}\")\n",
        "print(f\"Columns: {df_fast_food.shape[1]}\")"
      ]
    },
    {
      "cell_type": "markdown",
      "metadata": {
        "id": "52ZKtSI9t4d9"
      },
      "source": [
        "### 2. Data Diversity\n",
        "\n",
        "Use Python to identify how many unique values each column in your data has.  Use Python to identify which column has the greatest number of distinct values (aka the most diversity)?  If your data has a unique identifier (e.g. a person or visit or record ID) then find the column with the next most number of unique values."
      ]
    },
    {
      "cell_type": "code",
      "execution_count": 2,
      "metadata": {
        "id": "LwPK5tMrt4d9",
        "outputId": "b7e4a853-264a-4b00-f76e-7a5646e9230c",
        "colab": {
          "base_uri": "https://localhost:8080/"
        }
      },
      "outputs": [
        {
          "output_type": "stream",
          "name": "stdout",
          "text": [
            "Unnamed: 0     515\n",
            "restaurant       8\n",
            "item           505\n",
            "calories       113\n",
            "cal_fat        117\n",
            "total_fat       80\n",
            "sat_fat         40\n",
            "trans_fat       10\n",
            "cholesterol     52\n",
            "sodium         197\n",
            "total_carb     103\n",
            "fiber           18\n",
            "sugar           31\n",
            "protein         70\n",
            "vit_a           21\n",
            "vit_c           23\n",
            "calcium         26\n",
            "salad            1\n",
            "dtype: int64\n",
            "Column with the most unique values: Unnamed: 0\n"
          ]
        }
      ],
      "source": [
        "import pandas as pd\n",
        "\n",
        "df = pd.read_csv(\"https://raw.githubusercontent.com/rfordatascience/tidytuesday/master/data/2018/2018-09-04/fastfood_calories.csv\")\n",
        "\n",
        "# Getting number of unique values per column\n",
        "unique_counts = df.nunique()\n",
        "\n",
        "# Print number of uniques\n",
        "print(unique_counts)\n",
        "\n",
        "# Exclude 'item' column which likely contains IDs\n",
        "unique_counts = unique_counts.drop('item')\n",
        "\n",
        "# Finding column name with max number of unique values\n",
        "most_diverse_col = unique_counts.idxmax()\n",
        "\n",
        "print(f\"Column with the most unique values: {most_diverse_col}\")"
      ]
    },
    {
      "cell_type": "markdown",
      "metadata": {
        "id": "R8xN1ZiNt4d9"
      },
      "source": [
        "### 3. Data Redundancy\n",
        "\n",
        "Use Python to identify any columns in your data where the value for every row is the same.  For example, if you had a gender column and all the rows said 'M', then you would want to write the code that helped you determine that."
      ]
    },
    {
      "cell_type": "code",
      "execution_count": 3,
      "metadata": {
        "id": "81rHQQ_0t4d9",
        "outputId": "c4d1fd2e-b36d-4e5a-cebb-1f7f2e82d47f",
        "colab": {
          "base_uri": "https://localhost:8080/"
        }
      },
      "outputs": [
        {
          "output_type": "stream",
          "name": "stdout",
          "text": [
            "Columns with all the same value:\n",
            "['salad']\n"
          ]
        }
      ],
      "source": [
        "import pandas as pd\n",
        "\n",
        "df = pd.read_csv(\"https://raw.githubusercontent.com/rfordatascience/tidytuesday/master/data/2018/2018-09-04/fastfood_calories.csv\")\n",
        "\n",
        "# Getting the  list of columns with all the same value\n",
        "duplicate_cols = [col for col in df.columns if df[col].nunique() <= 1]\n",
        "\n",
        "# Print column names\n",
        "print(\"Columns with all the same value:\")\n",
        "print(duplicate_cols)"
      ]
    },
    {
      "cell_type": "markdown",
      "metadata": {
        "id": "WkbRUSFUt4d9"
      },
      "source": [
        "### 4. Range of Values\n",
        "\n",
        "Your data almost certainly has some numeric columns that can be summed or averaged.  Create a histogram that shows the distribution of values for this column."
      ]
    },
    {
      "cell_type": "code",
      "execution_count": 4,
      "metadata": {
        "id": "1o5koTK3t4d-",
        "outputId": "44d6e75a-7ebe-4ed0-921a-4c53f77518c6",
        "colab": {
          "base_uri": "https://localhost:8080/",
          "height": 472
        }
      },
      "outputs": [
        {
          "output_type": "display_data",
          "data": {
            "text/plain": [
              "<Figure size 640x480 with 1 Axes>"
            ],
            "image/png": "[encoded data removed]"
          },
          "metadata": {}
        }
      ],
      "source": [
        "import pandas as pd\n",
        "import matplotlib.pyplot as plt\n",
        "\n",
        "df = pd.read_csv(\"https://raw.githubusercontent.com/rfordatascience/tidytuesday/master/data/2018/2018-09-04/fastfood_calories.csv\")\n",
        "\n",
        "# Selecting numeric column to plot\n",
        "col = 'calories'\n",
        "\n",
        "# Creating histogram\n",
        "plt.hist(df[col], bins=20)\n",
        "\n",
        "# Labelling the plot\n",
        "plt.title(f'Distribution of {col}')\n",
        "plt.xlabel(col)\n",
        "plt.ylabel('Frequency')\n",
        "\n",
        "plt.show()"
      ]
    },
    {
      "cell_type": "markdown",
      "metadata": {
        "id": "Vs5uDVsZt4d-"
      },
      "source": [
        "### 5. Discussion\n",
        "\n",
        "Do any additional exploration of this data that you think may be interesting and include your code here.  Then go onto Slack and make a post about what you've observed.  Share your observation.  Share your code, if you like.  Share a screenshot of the data or a chart based on the data.\n",
        "\n",
        "Then comment on at least two other people's observations that they share on Slack.  (Use the reply as thread option in Slack to keep the conversation organized.)"
      ]
    },
    {
      "cell_type": "code",
      "source": [
        "import pandas as pd\n",
        "import matplotlib.pyplot as plt\n",
        "\n",
        "import pandas as pd\n",
        "import matplotlib.pyplot as plt\n",
        "\n",
        "df = pd.read_csv(\"https://raw.githubusercontent.com/rfordatascience/tidytuesday/master/data/2018/2018-09-04/fastfood_calories.csv\")\n",
        "\n",
        "# Histogram\n",
        "plt.figure(figsize=(6,4))\n",
        "plt.hist([most_cal['calories'], least_cal['calories']],\n",
        "         bins=20, label=[\"Most Caloric\", \"Least Caloric\"], alpha=0.5)\n",
        "plt.legend()\n",
        "plt.xlabel('Calories')\n",
        "plt.ylabel('Frequency')\n",
        "plt.title(\"Calories Distribution\")\n",
        "\n",
        "plt.tight_layout()\n",
        "plt.show()"
      ],
      "metadata": {
        "id": "xXkpvDpjwdqT",
        "outputId": "3da8c741-6752-4c78-9de1-fe66addb07eb",
        "colab": {
          "base_uri": "https://localhost:8080/",
          "height": 407
        }
      },
      "execution_count": 13,
      "outputs": [
        {
          "output_type": "display_data",
          "data": {
            "text/plain": [
              "<Figure size 600x400 with 1 Axes>"
            ],
            "image/png": "[encoded data removed]"
          },
          "metadata": {}
        }
      ]
    },
    {
      "cell_type": "code",
      "execution_count": 5,
      "metadata": {
        "id": "_GGmBvK3t4d-",
        "outputId": "fe94aac3-4c27-48dc-a6a3-8b7133e7ea32",
        "colab": {
          "base_uri": "https://localhost:8080/"
        }
      },
      "outputs": [
        {
          "output_type": "stream",
          "name": "stdout",
          "text": [
            "Most caloric items:\n",
            "     Unnamed: 0   restaurant  \\\n",
            "39           40    Mcdonalds   \n",
            "44           45    Mcdonalds   \n",
            "47           48    Mcdonalds   \n",
            "192         193  Burger King   \n",
            "38           39    Mcdonalds   \n",
            "\n",
            "                                                 item  calories  cal_fat  \\\n",
            "39         20 piece Buttermilk Crispy Chicken Tenders      2430     1270   \n",
            "44                         40 piece Chicken McNuggets      1770      960   \n",
            "47   10 piece Sweet N' Spicy Honey BBQ Glazed Tenders      1600      600   \n",
            "192                           American Brewhouse King      1550     1134   \n",
            "38         12 piece Buttermilk Crispy Chicken Tenders      1510      790   \n",
            "\n",
            "     total_fat  sat_fat  trans_fat  cholesterol  sodium  total_carb  fiber  \\\n",
            "39         141     24.0        2.0          475    6080         103    2.0   \n",
            "44         107     18.0        0.5          295    3370         105    7.0   \n",
            "47          66     10.0        0.0          265    4450         156    5.0   \n",
            "192        126     47.0        8.0          805    1820          21    3.0   \n",
            "38          88     15.0        1.0          295    3770          64    1.0   \n",
            "\n",
            "     sugar  protein  vit_a  vit_c  calcium  salad  \n",
            "39       3    186.0    0.0    2.0      8.0  Other  \n",
            "44       1     98.0    0.0   15.0      6.0  Other  \n",
            "47      87     97.0    8.0   40.0     10.0  Other  \n",
            "192      7    134.0    NaN    NaN      NaN  Other  \n",
            "38       2    115.0    0.0    2.0      6.0  Other  \n",
            "\n",
            "Least caloric items:\n",
            "     Unnamed: 0   restaurant                             item  calories  \\\n",
            "302         303  Dairy Queen                       Side Salad        20   \n",
            "392         393       Subway              Veggie Delite Salad        50   \n",
            "187         188        Arbys               Chopped Side Salad        70   \n",
            "72           73  Chick Fil-A  4 Piece Grilled Chicken Nuggets        70   \n",
            "127         128        Sonic            Ultimate Chicken Club       100   \n",
            "\n",
            "     cal_fat  total_fat  sat_fat  trans_fat  cholesterol  sodium  total_carb  \\\n",
            "302        0          0      0.0        0.0            0      15           5   \n",
            "392       10          1      0.0        0.0            0      65           9   \n",
            "187       45          5      2.5        0.0           15     100           4   \n",
            "72        18          2      1.0        0.0           35     220           1   \n",
            "127      580         64     15.0        0.5          100    2070          65   \n",
            "\n",
            "     fiber  sugar  protein  vit_a  vit_c  calcium  salad  \n",
            "302    2.0      3      1.0   50.0   30.0     15.0  Other  \n",
            "392    4.0      4      3.0   25.0   45.0      4.0  Other  \n",
            "187    1.0      2      5.0   35.0   10.0     10.0  Other  \n",
            "72     0.0      0     13.0    0.0    6.0      0.0  Other  \n",
            "127    4.0     12     39.0   15.0    8.0     30.0  Other  \n"
          ]
        }
      ],
      "source": [
        "most_cal = df.sort_values('calories', ascending=False).head()\n",
        "least_cal = df.sort_values('calories').head()\n",
        "\n",
        "print(f\"Most caloric items:\\n{most_cal}\")\n",
        "print(f\"\\nLeast caloric items:\\n{least_cal}\")"
      ]
    },
    {
      "cell_type": "markdown",
      "metadata": {
        "id": "Tl8YvcPgt4d-"
      },
      "source": [
        "\n",
        "\n",
        "---\n",
        "\n",
        "\n",
        "\n",
        "## Submitting Your Work\n",
        "\n",
        "Submit your work as usual."
      ]
    },
    {
      "cell_type": "code",
      "execution_count": null,
      "metadata": {
        "id": "8eoLj1z7t4d-"
      },
      "outputs": [],
      "source": []
    }
  ],
  "metadata": {
    "celltoolbar": "Create Assignment",
    "kernelspec": {
      "display_name": "Python 3",
      "language": "python",
      "name": "python3"
    },
    "language_info": {
      "codemirror_mode": {
        "name": "ipython",
        "version": 3
      },
      "file_extension": ".py",
      "mimetype": "text/x-python",
      "name": "python",
      "nbconvert_exporter": "python",
      "pygments_lexer": "ipython3",
      "version": "3.6.7"
    },
    "colab": {
      "provenance": [],
      "include_colab_link": true
    }
  },
  "nbformat": 4,
  "nbformat_minor": 0
}