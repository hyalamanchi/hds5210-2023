{
  "cells": [
    {
      "cell_type": "markdown",
      "metadata": {
        "id": "view-in-github",
        "colab_type": "text"
      },
      "source": [
        "<a href=\"https://colab.research.google.com/github/hyalamanchi/hds5210-2023/blob/main/midterm-2023-extra.ipynb\" target=\"_parent\"><img src=\"https://colab.research.google.com/assets/colab-badge.svg\" alt=\"Open In Colab\"/></a>"
      ]
    },
    {
      "cell_type": "markdown",
      "metadata": {
        "id": "-9Q9VMiACmFs"
      },
      "source": [
        "# Extra Credit\n",
        "\n",
        "For upto an additional 15 extra credit points on the midterm exam, you can write another function that applies additional criteria on top of what the midterm already did.  To earn the addition points, you need write a function called `summarize_results(patients)` to take the output of your  `process_people()` function to apply a new business rule and summarize the results.\n",
        "\n",
        "* Your function should take the dictionary created by `process_people()` as it's one input parameter: `patients`.\n",
        "* If the PRIEST probably is less than 10%, change the `hospital` and `address` to both have a value of `'Home'` indicating patients with a lower probability of an adverse outcome can just go home rather than be admitted to a hospital.\n",
        "* Summarize those results and count how many patients are now being sent to each location.  Your result should have the following format:\n",
        "```\n",
        "{\n",
        "    \"Home\": 123,\n",
        "    \"Hospital A\": 10,\n",
        "    \"Hospital B\": 20,\n",
        "    \"Hospital C\": 30\n",
        "}\n",
        "```\n",
        "\n",
        "As always, your function needs good docstrings; but does not require any doctests in this case."
      ]
    },
    {
      "cell_type": "code",
      "execution_count": 1,
      "metadata": {
        "colab": {
          "base_uri": "https://localhost:8080/"
        },
        "id": "cq_eBLR0CmFv",
        "outputId": "3457490f-3ac3-40d8-c764-8536a3193c1a"
      },
      "outputs": [
        {
          "output_type": "execute_result",
          "data": {
            "text/plain": [
              "{'Select Specialty Hospital - Northeast Atlanta': 32,\n",
              " 'Wesley Woods Geriatric Hospital': 20,\n",
              " 'Southwest Hospital and Medical Center': 16,\n",
              " 'Childrens Healthcare of Atlanta at Scottish Rite': 1,\n",
              " 'Hughes Spalding Childrens Hospital': 1,\n",
              " 'Emory Dunwoody Medical Center': 5}"
            ]
          },
          "metadata": {},
          "execution_count": 1
        }
      ],
      "source": [
        "from collections import Counter\n",
        "import requests\n",
        "\n",
        "def summarize_results(patients):\n",
        "\n",
        "    \"\"\"\n",
        "\n",
        "    (Dictionary) -> dictionary\n",
        "\n",
        "    The summarize_results function is used to mark a\n",
        "    patient as \"Home\" when the risk probability of the patient is less than 10%.\n",
        "    A dictionary with a clear hospital count is what is returned.\n",
        "\n",
        "\n",
        "    The summarize function accepts any patient data as input\n",
        "    arguments and outputs a single hospital count in dictionary format.\n",
        "\n",
        "    \"\"\"\n",
        "    place_counts = Counter(j[11] for j in patients.values() if j[10] > 0.1)\n",
        "    hospitalJson = dict(place_counts)\n",
        "\n",
        "    return hospitalJson\n",
        "\n",
        "\n",
        "\n",
        "\n",
        "response = requests.get(\"https://hds5210-data.s3.amazonaws.com/people_results.json\")\n",
        "resp = response.json()\n",
        "summarize_results(resp)"
      ]
    },
    {
      "cell_type": "code",
      "execution_count": null,
      "metadata": {
        "id": "mEgvmBLPCmFw"
      },
      "outputs": [],
      "source": []
    }
  ],
  "metadata": {
    "kernelspec": {
      "display_name": ".venv",
      "language": "python",
      "name": "python3"
    },
    "language_info": {
      "codemirror_mode": {
        "name": "ipython",
        "version": 3
      },
      "file_extension": ".py",
      "mimetype": "text/x-python",
      "name": "python",
      "nbconvert_exporter": "python",
      "pygments_lexer": "ipython3",
      "version": "3.9.16"
    },
    "colab": {
      "provenance": [],
      "include_colab_link": true
    }
  },
  "nbformat": 4,
  "nbformat_minor": 0
}