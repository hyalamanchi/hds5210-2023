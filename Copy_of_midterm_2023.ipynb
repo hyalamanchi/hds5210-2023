{
  "cells": [
    {
      "cell_type": "markdown",
      "metadata": {
        "id": "ZZ5WOJoZgyBW"
      },
      "source": [
        "# HDS5210-2022 Midterm\n",
        "\n",
        "In the midterm, you're going to use all the programming and data management skills you've developed so far to build a risk calculator that pretends to be integrated with a clinical registry.  You'll compute the PRIEST COVID-19 Clinical Severity Score for a series of patients and, based on their risk of an adverse outcome, query a REST web service to find a hospital to transfer them to. The end result of your work will be a list of instructions on where each patient should be discharged given their risk and various characteristics of the patient.\n",
        "\n",
        "Each step in the midterm will build up to form your complete solution.\n",
        "\n",
        "**Make sure you write good docstrings and doctests along the way!!**\n",
        "\n",
        "**The midterm is due at 11:59 PM CST on Monday, October 23rd.**\n",
        "\n",
        "---"
      ]
    },
    {
      "cell_type": "markdown",
      "metadata": {
        "id": "CANGskvzgyBZ"
      },
      "source": [
        "## Step 1: Calculate PRIEST Clinical Severity Score\n",
        "\n",
        "This scoring algorithm can be found [here on the MDCalc website](https://www.mdcalc.com/priest-covid-19-clinical-severity-score#evidence).  \n",
        "\n",
        "1. You will need to write a function called **priest()** with the following input parameters.  \n",
        " * Sex (Gender assigned at birth)\n",
        " * Age in years\n",
        " * Respiratory rate in breaths per minute\n",
        " * Oxygen saturation as a percent between 0 and 1\n",
        " * Heart rate in beats per minute\n",
        " * Systolic BP in mmHg\n",
        " * Temperature in degrees C\n",
        " * Alertness as a string description\n",
        " * Inspired Oxygen as as string description\n",
        " * Performance Status as a string description\n",
        "2. The function will need to follow the algorithm provided on the MDCalc website to compute a risk percentage that should be returned as a numeric value between 0 and 1.\n",
        "3. Be sure to use docstring documentation and at least three built-in docstring test cases.\n",
        "4. Assume that the input values that are strings could be any combination of upper or lower case. For example: 'male', 'Male', 'MALE', 'MalE' should all be interpretted by your code as male.\n",
        "5. If any of the inputs are invalid (for example a sex value that is not recognizable as male or female) your code should return None.\n",
        "\n",
        "NOTES:\n",
        "1. In the final step there is a table that translates from **PRIEST Score** to **30-day probability of an outcome** but the last two probabilities are shown as ranges (59-88% and >99%).  Our code needs to output a single number, however. For our code, use the following rule:\n",
        " * If PRIEST score is between 17 and 25, the probability you return should be 0.59\n",
        " * If PRIEST score is greater than or equal to 26, the probability you return should be 0.99\n"
      ]
    },
    {
      "cell_type": "code",
      "execution_count": null,
      "metadata": {
        "id": "Zia1nhqVgyBa"
      },
      "outputs": [],
      "source": [
        "def priest(sex,Age,respiratory_rate,oxygen_saturation,heart_rate,\n",
        "           systolic_bp,temperature,alertness,\n",
        "    inspired_oxygen,performance_status):\n",
        "  \"\"\"\n",
        "  ()\n",
        "  \"\"\"\n",
        "  score==0\n",
        "  if sex.lower()== \"male\":\n",
        "     score=+1\n",
        "  elif sex.lower()== \"female\":\n",
        "     score+=0\n",
        "  if Age>=16 and Age <= 49:\n",
        "     score+=0\n",
        "  elif Age>=50 and Age<=65:\n",
        "     score+=2\n",
        "  elif Age>=66 and Age<=80:\n",
        "    score+=3\n",
        "  elif Age>=80:\n",
        "     score+=4\n",
        "  if respiratory_rate <=9:\n",
        "    score+=3\n",
        "  elif respiratory_rate>=9 and respiratory_rate<=11:\n",
        "    score+=1\n",
        "  elif respiratory_rate>12 and respiratory_rate<=20:\n",
        "    score+=0\n",
        "  elif respiratory_rate>=21 and respiratory_rate<=24:\n",
        "    score+=2\n",
        "  elif respiratory_rate>=24:\n",
        "    score+=3\n",
        "  if oxygen_saturation>=o.95:\n",
        "    score+=0\n",
        "  elif oxygen_saturation>=0.94 and oxygen_saturation<=0.95:\n",
        "    score+=1\n",
        "  elif oxygen_saturation>=0.92 and oxygen_saturation<=0.93:\n",
        "    score+=2\n",
        "  elif oxygen_saturation<=0.92:\n",
        "     score+=3\n",
        "  if heart_rate<=41:\n",
        "    score+=1\n",
        "  elif heart_rate>=41 and heart_rate<=50:\n",
        "    scor+=1\n",
        "  elif heart_rate>=51 and heart_rate<=90:\n",
        "    score+=0\n",
        "  elif heart_rate>=91 and heart_rate<=110:\n",
        "    score+=1\n",
        "  elif heart_rate>=111 and heart_rate<=130:\n",
        "    score+=2\n",
        "  elif heart_rate >=130:\n",
        "    score+=3\n",
        "  if systolic_bp<=91:\n",
        "    score+=3\n",
        "  elif systolic_bp>=91 and systolic_bp<=100:\n",
        "    score+=2\n",
        "  elif systolic_bp>=101 and systolic_bp<=110:\n",
        "    score+=1\n",
        "  elif systolic_bp>=111 and systolic_bp<=219:\n",
        "    score+=0\n",
        "  elif systolic_bp>=219:\n",
        "    score+=3\n",
        "  if temperature<=35.1:\n",
        "    score+=3\n",
        "  elif temperature>=35.1 and temperature<=36.0:\n",
        "    score+=1\n",
        "  elif temperature>=36.1 and temperature<=38.0:\n",
        "    score+=0\n",
        "  elif temperature>=38.1 and temperature<=39.0:\n",
        "    score+=1\n",
        "  elif temperature>=39.0:\n",
        "    score+=2\n",
        "  if alertness== 'alert':\n",
        "    score+=0\n",
        "  elif alertness=='Confused or not alert':\n",
        "    score+=3\n",
        "  if inspired_oxygen=='air':\n",
        "    score+=0\n",
        "  elif inspired_oxygen=='supplemental oxygen':\n",
        "    score+=2\n",
        "  if performance_status=='Unrestricted normal activity':\n",
        "    score+=0\n",
        "  elif performance_status==\"Limited strenuous activity, can do light activity\":\n",
        "    score+=1\n",
        "  elif performance_status==\"Limited activity, can self care\":\n",
        "    score+=2\n",
        "  elif performance_status==\"Limited self care\":\n",
        "    score+=3\n",
        "  elif performance_status==\"Bed/chair bound, no self care\":\n",
        "    score+=4\n",
        "  if score==0 or score==1:\n",
        "   percentage=1\n",
        "  elif score>=2 or score<=3:\n",
        "   percentage=2\n",
        "  elif score==4:\n",
        "   percentage=3\n",
        "  elif score==5:\n",
        "   percentage=9\n",
        "  elif score==6:\n",
        "   percentage=15\n",
        "  elif score==7:\n",
        "   percentage=18\n",
        "  elif score==8:\n",
        "   percentage=22\n",
        "  elif score==9:\n",
        "   percentage=26\n",
        "  elif score==10:\n",
        "   percentage=29\n",
        "  elif score==11:\n",
        "   percentage=34\n",
        "  elif score==12:\n",
        "   percentage=38\n",
        "  elif score==13:\n",
        "   percentage=46\n",
        "  elif score ==14:\n",
        "   percentage=47\n",
        "  elif score==15:\n",
        "   percentage =49\n",
        "  elif score==16:\n",
        "   percentage =55\n",
        "  elif score>=17 or score <=25:\n",
        "   percentage>=59 or percentage <=88\n",
        "  elif score>=26:\n",
        "   percentage>=99\n",
        "  return percentage\n",
        "\n"
      ]
    },
    {
      "cell_type": "code",
      "execution_count": null,
      "metadata": {
        "id": "cMg-6XP4gyBa",
        "outputId": "7de72d1d-d12f-4368-9582-ffd07d2365df",
        "colab": {
          "base_uri": "https://localhost:8080/"
        }
      },
      "outputs": [
        {
          "output_type": "stream",
          "name": "stdout",
          "text": [
            "Finding tests in NoName\n"
          ]
        }
      ],
      "source": [
        "import doctest\n",
        "doctest.run_docstring_examples(priest, globals(),verbose=True)"
      ]
    },
    {
      "cell_type": "markdown",
      "metadata": {
        "id": "YicOeLuwgyBc"
      },
      "source": [
        "## Part 2: Find a hospital\n",
        "\n",
        "The next thing we have to do is figure out where to send this particular patient.  The guidelines on where to send a patient are based on their age (pediatric, adult, geriatric), sex, and risk percentage.  Luckily, you don't have to implement these rules. I already have. All you have to do is use a REST web service that I've created for you.\n",
        "\n",
        "You'll want to use Python to make a call to my REST web service similar to the example URL below. The first part of the URL will be the same for everyone and every request that you make. What you will need to modify for each of your requests is the information after the question mark.\n",
        "\n",
        "```\n",
        "https://oumdj6oci2.execute-api.us-east-1.amazonaws.com/prd/?age=40&sex=male&risk_pct=0.1\n",
        "```\n",
        "\n",
        "The example above asks my web service where a 40-year old male with a risk of 10% should go.  What the web service will return back is a JSON string containing the information you need.  That JSON will look like this:\n",
        "\n",
        "```json\n",
        "{\n",
        "  \"age\": \"40\",\n",
        "  \"sex\": \"male\",\n",
        "  \"risk\": \"0.1\",\n",
        "  \"hospital\": \"Southwest Hospital and Medical Center\"\n",
        "}\n",
        "```\n",
        "\n",
        "My function is not smart enough to understand `'MALE'` is the same as `'male'`.  You have to send it exactly `'male'` or `'female'`\n",
        "\n",
        "1. Your job is to write a function called **find_hospital()** that takes age, sex, and risk as parameters.\n",
        "2. Your function should call this REST web service using the `requests` module\n",
        "3. Then your function will need to interpret the JSON it gets and return just the name of the hospital\n",
        "4. If anything fails, return None\n",
        "5. Include a good docstring with at least three test cases.\n"
      ]
    },
    {
      "cell_type": "code",
      "execution_count": null,
      "metadata": {
        "id": "Nj2wPGYKgyBc"
      },
      "outputs": [],
      "source": [
        "def find_hospital(age,sex,risk_patient):\n",
        "\n",
        "  sex=sex.lower\n",
        "\n",
        "  import requests\n",
        "  URL=\"https://oumdj6oci2.execute-api.us-east-1.amazonaws.com/prd/?age=40&sex=male&risk_pct=0.1\".format(age,sex,risk_patient)\n",
        "\n",
        "  response=requests.get(URL)\n",
        "  return response.json()['hospital']\n",
        "\n",
        "\n",
        "\n",
        "\n",
        "\n"
      ]
    },
    {
      "cell_type": "code",
      "source": [
        "find_hospital(75,'female',0.75)"
      ],
      "metadata": {
        "id": "cWf-NbJV-AWs",
        "outputId": "b4a2d5cc-fb7f-4fdc-b8e7-8b43c06e5d5b",
        "colab": {
          "base_uri": "https://localhost:8080/",
          "height": 35
        }
      },
      "execution_count": null,
      "outputs": [
        {
          "output_type": "execute_result",
          "data": {
            "text/plain": [
              "'Southwest Hospital and Medical Center'"
            ],
            "application/vnd.google.colaboratory.intrinsic+json": {
              "type": "string"
            }
          },
          "metadata": {},
          "execution_count": 66
        }
      ]
    },
    {
      "cell_type": "code",
      "execution_count": null,
      "metadata": {
        "id": "9jyUP_gTgyBc",
        "outputId": "80de8af4-9db1-4e0a-ea9a-9a1abe99f9f6",
        "colab": {
          "base_uri": "https://localhost:8080/"
        }
      },
      "outputs": [
        {
          "output_type": "stream",
          "name": "stdout",
          "text": [
            "Finding tests in NoName\n"
          ]
        }
      ],
      "source": [
        "import doctest\n",
        "doctest.run_docstring_examples(find_hospital, globals(),verbose=True)"
      ]
    },
    {
      "cell_type": "markdown",
      "metadata": {
        "id": "uuBcJ-3EgyBd"
      },
      "source": [
        "## Part 3: Get the address for that hospital from a JSON file\n",
        "\n",
        "Great! Now we have code to tell us which hospital to send someone to... but we don't know where that hospital is. The next function we need to create is one that looks up the address of that hospital.  All of these hospitals are in Atlanta, Georgia.  We're going to use the list from this webpage to lookup the address for that hospital, based on its name.  https://www.officialusa.com/stateguides/health/hospitals/georgia.html\n",
        "\n",
        "Because we skipped the section about Beautiful Soup and working with HTML, I've converted this information into a JSON document for you.  It's available for you here.  Your code should retrieve this file using the `requests` module.\n",
        "\n",
        "`https://drive.google.com/uc?export=download&id=1fIFD-NkcdiMu941N4GjyMDWxiKsFJBw-`\n",
        "\n",
        "1. You need to create a function called **get_address()** that takes hospital name as a parameter and searches the data from this JSON file for the hospital you want to find.\n",
        "2. Your code will have to load the JSON and return the correct hospital based on name.\n",
        "3. If the hospital name isn't found, the function should return None.\n",
        "4. Be sure to use good docstring documentation and includes at least 3 test cases."
      ]
    },
    {
      "cell_type": "code",
      "execution_count": null,
      "metadata": {
        "id": "bjGi32YEgyBd"
      },
      "outputs": [],
      "source": [
        "import json\n",
        "import requests\n",
        "def get_adress(hospital='hospital'):\n",
        "  \"\"\"\n",
        "  (str)->str\n",
        "  Here we need to get the hospital adress.primarily we imported the json and later requests module then creating a function called get_address\n",
        "  which is having hospital parameter.Then by assigning given URL ,now response is equal to the requests.get URL ,now hospital_data is json.loads\n",
        "  \"\"\"\n",
        "  URL='https://drive.google.com/uc?export=download&id=1fIFD-NkcdiMu941N4GjyMDWxiKsFJBw-'\n",
        "  response=requests.get(URL)\n",
        "  hospital_data=json.loads(response.text)\n",
        "  for hosp in hospital_data.keys():\n",
        "    if hosp==hospital:\n",
        "       return hospital_data[hosp]\n",
        "get_adress(\"Southwest Hospital and Medical Center\")"
      ]
    },
    {
      "cell_type": "markdown",
      "metadata": {
        "id": "G5EeDKk7gyBd"
      },
      "source": [
        "## Part 4: Run the risk calculator on a population\n",
        "\n",
        "At the link below, there is a file called `people.psv`.  It is a pipe-delimited (`|`) file with columns that match the inputs for the PRIEST calculation above.  Your code should use the `requests` module to retrieve the file from this URL.\n",
        "\n",
        "`https://drive.google.com/uc?export=download&id=1fLxJN9YGUqmqExrilxSS8furwUER5HHh`\n",
        "\n",
        "\n",
        "In addition, the file has a patient identifier in the first column.\n",
        "\n",
        "1. Write a function called **process_people()** that takes the file location above as its only parameter. Your Python program should use your code above to process all of these rows, determine the hospital and address, and return a list whose items are a dictionary like this: `{ patient_number: [sex, age, breath, o2sat, heart, systolic, temp, alertness, inspired, status, hospital, address]}`.  Look at the file in Part 5 for what the output looks like.\n",
        "2. Be sure to use good docstrings, but you don't need any tests in your doc strings.  I've provided those for you withe file in Part 5.\n",
        "\n",
        "\n",
        "**NOTE** that when running your code for all the 100 records in the `people.psv` file, it may take a few minutes to complete.  You're making multiple calls to the internet for each record, so that can take a little while.\n"
      ]
    },
    {
      "cell_type": "code",
      "execution_count": null,
      "metadata": {
        "id": "y-8PT9vQgyBd"
      },
      "outputs": [],
      "source": []
    },
    {
      "cell_type": "markdown",
      "metadata": {
        "id": "OdvKGKRcgyBe"
      },
      "source": [
        "## Part 5: Checking your final results\n",
        "\n",
        "The final step is to check your results.  You should be able to compare your results to the output in `people_results.json` at the link below.  Write some code to check your results.  This does not need to be a function.\n",
        "\n",
        "`https://drive.google.com/uc?export=download&id=1gx1SSC20mO5XL6uYD0mdcM_cL91fcIW5`\n"
      ]
    },
    {
      "cell_type": "code",
      "execution_count": null,
      "metadata": {
        "id": "CdQifkt1gyBe"
      },
      "outputs": [],
      "source": []
    },
    {
      "cell_type": "markdown",
      "metadata": {
        "id": "utYmtxJegyBe"
      },
      "source": [
        "---\n",
        "\n",
        "## Check your work above\n",
        "\n",
        "If you didn't get them all correct, take a few minutes to think through those that aren't correct.\n",
        "\n",
        "\n",
        "## Submitting Your Work\n",
        "\n",
        "Submit your work as usual into a folder named `midterm`"
      ]
    },
    {
      "cell_type": "markdown",
      "metadata": {
        "id": "WY-tb74rgyBe"
      },
      "source": [
        "---"
      ]
    }
  ],
  "metadata": {
    "kernelspec": {
      "display_name": "Python 3",
      "language": "python",
      "name": "python3"
    },
    "language_info": {
      "codemirror_mode": {
        "name": "ipython",
        "version": 3
      },
      "file_extension": ".py",
      "mimetype": "text/x-python",
      "name": "python",
      "nbconvert_exporter": "python",
      "pygments_lexer": "ipython3",
      "version": "3.9.16"
    },
    "colab": {
      "provenance": []
    }
  },
  "nbformat": 4,
  "nbformat_minor": 0
}