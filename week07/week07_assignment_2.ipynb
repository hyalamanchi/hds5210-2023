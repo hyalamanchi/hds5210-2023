{
  "cells": [
    {
      "cell_type": "markdown",
      "metadata": {
        "id": "ATlRW-_9yeXx"
      },
      "source": [
        "# Week 7 Assignment\n",
        "\n",
        "We've been working with different types of data structures in Python (dictionary, list, etc), how those are represented in JSON documents, and how to write code to access specific data elements. In this week's assignment, you will need to create your own JSON document to store information about yourself and the grades you've received from week 1 to week 4 and the week 6 quiz.  That is, everything you should have received a grade for.  Then you'll need to show me you know how to navigate the JSON in that file.\n",
        "\n",
        "Different from what we've done in the past, you do not have to write any functions or include any docstrings.  Just create some JSON and write some code.\n",
        "\n",
        "---"
      ]
    },
    {
      "cell_type": "markdown",
      "metadata": {
        "id": "kIy47uBxyeXy"
      },
      "source": [
        "## 7.1 Create a JSON string\n",
        "\n",
        "Create a JSON string that contains your name, email, year you were born, all of the grades you've received back so far, and a comment about what you thought was most challenging on each of those assignments.  This can be any structure you choose, but make sure it uses a dictionary and a list, and has at least two levels of hierarchy.  That is, it can't just be one big long list."
      ]
    },
    {
      "cell_type": "markdown",
      "metadata": {
        "id": "UBSBrYBZyeXy"
      },
      "source": [
        "First, explain how your data structure is going to look..."
      ]
    },
    {
      "cell_type": "markdown",
      "metadata": {
        "id": "3hwsOmbYyeXy"
      },
      "source": [
        "The JSON structure provided is a data standard for storing student information in a dictionaries.Structured data about Hemalatha Yalamanchi is represented by the JSON data that has been provided. My date of birth, email address, and name are all included. There is also a list of assignment grades, each with the name of the work, the grade that goes with it, and an explanation of any difficulties or experiences that were involved. This academic and personal data is cleanly organized for a variety of use cases, including data storage, exchange, and analysis, because of the JSON framework.* Put your explanation here in text..."
      ]
    },
    {
      "cell_type": "markdown",
      "metadata": {
        "id": "V3JWebTlyeXy"
      },
      "source": [
        "Then put the actual JSON you've created inside the multiline string below..."
      ]
    },
    {
      "cell_type": "code",
      "execution_count": 1,
      "metadata": {
        "id": "m78rwSpKyeXy"
      },
      "outputs": [],
      "source": [
        "\n",
        "#creating the JSON string which is having my name,e-mail,date of birth,and all the grades till now we got.\n",
        "#Here we are getting the dictionaries\n",
        "\n",
        "hds5210 = \"\"\"\n",
        "{\n",
        "  \"Name\": \"Hemalatha yalamanchi\",\n",
        "  \"E-mail\": \"hemalatha.yalamanchi@slu.edu\",\n",
        "  \"Date of Birth\": 2002,\n",
        "  \"Grades\": [\n",
        "    {\n",
        "      \"Assignment_name\": \"week01_assignment \",\n",
        "      \"Grade\": 10,\n",
        "      \"challenge\": \"first time using colab it is really exciting that i can write the code on my name\"\n",
        "    },\n",
        "    {\n",
        "      \"Assignment_name\": \"week_02_assignment\",\n",
        "      \"Grade\": 10,\n",
        "      \"challenge\": \"Using mathematical operations a bit hard .\"\n",
        "    },\n",
        "    {\n",
        "      \"Assignment_name\": \"week03_assignment\",\n",
        "      \"Grade\": 10,\n",
        "      \"challenge\": \"Using the appropriate function is a bit challenging.\"\n",
        "    },\n",
        "    {\n",
        "      \"Assignment_name\": \"week04_assignment\",\n",
        "      \"Grade\": 9,\n",
        "      \"challenge\": \"using the proper logic and assigning the variable names.\"\n",
        "    },\n",
        "    {\n",
        "      \"Assignment_name\":\"week06_Quiz\",\n",
        "      \"Grade\":17,\n",
        "      \"challenge\":\"It's hard to use 5 docstrings at a time.\"\n",
        "    }\n",
        "  ]\n",
        "}\n",
        "\n",
        "\"\"\"\n"
      ]
    },
    {
      "cell_type": "markdown",
      "metadata": {
        "id": "EIoyLK72yeXz"
      },
      "source": [
        "## 7.2 Do something with your JSON\n",
        "\n",
        "Now use Python code to do something with the Json above.  Turn it into English text, but make sure that you use at least one loop to access some dict or list content of your JSON.  Below, I've provided some basic code to read in the string above as JSON and return a Python object.  Your job is to work with that data structure and print out the important information like your name, email, and how you did on each assignment."
      ]
    },
    {
      "cell_type": "code",
      "execution_count": 5,
      "metadata": {
        "id": "Cj1O-GTVyeXz",
        "outputId": "86255931-42d5-4db8-e73a-ee9dc72d4972",
        "colab": {
          "base_uri": "https://localhost:8080/"
        }
      },
      "outputs": [
        {
          "output_type": "stream",
          "name": "stdout",
          "text": [
            "Name: Hemalatha yalamanchi\n",
            "Email: hemalatha.yalamanchi@slu.edu\n",
            "Date of Birth: ['Date of Birth']\n",
            "Assignment: week01_assignment \n",
            "Grade: 10\n",
            "Challenges: first time using colab it is really exciting that i can write the code on my name\n",
            "\n",
            "Assignment: week_02_assignment\n",
            "Grade: 10\n",
            "Challenges: Using mathematical operations a bit hard .\n",
            "\n",
            "Assignment: week03_assignment\n",
            "Grade: 10\n",
            "Challenges: Using the appropriate function is a bit challenging.\n",
            "\n",
            "Assignment: week04_assignment\n",
            "Grade: 9\n",
            "Challenges: using the proper logic and assigning the variable names.\n",
            "\n",
            "Assignment: week06_Quiz\n",
            "Grade: 17\n",
            "Challenges: It's hard to use 5 docstrings at a time.\n",
            "\n"
          ]
        }
      ],
      "source": [
        "import json\n",
        "\n",
        "info = json.loads(hds5210)\n",
        "data = json.loads(hds5210)\n",
        "\n",
        "name=info[\"Name\"]\n",
        "email=info[\"E-mail\"]\n",
        "year_of_birth=info[\"Date of Birth\"]\n",
        "grades_recieved=info[\"Grades\"]\n",
        "\n",
        "print(\"Name:\", data[\"Name\"])\n",
        "print(\"Email:\", data[\"E-mail\"])\n",
        "print(\"Date of Birth:\",[\"Date of Birth\"])\n",
        "\n",
        "# Loop through the grades and print assignment details\n",
        "for grade in data[\"Grades\"]:\n",
        "    print(f\"Assignment: {grade['Assignment_name']}\")\n",
        "    print(f\"Grade: {grade['Grade']}\")\n",
        "    print(f\"Challenges: {grade['challenge']}\")\n",
        "    print()"
      ]
    },
    {
      "cell_type": "markdown",
      "metadata": {
        "id": "3KDnnAZbyeXz"
      },
      "source": [
        "## 7.3 Reflect\n",
        "\n",
        "Write a paragraph on any reflections you have. Was this hard? Easy?  What parts were most challenging or easiest? What did you like or dislike about the assignment?  Share whatever important thoughts you have abou this assignment."
      ]
    },
    {
      "cell_type": "markdown",
      "metadata": {
        "id": "ir83xEDdyeXz"
      },
      "source": [
        "Hi ,my name is Hemalatha yalamanchi,my email address is hemalatha.yalamanchi@slu.edu. Till now we completed the half of syllabus in hds5210.In that we got score for the 5 assignments ,among all of them expect in week-04 and and week-06 quiz i got full marks these two i missed someexamples.while i am creating the json file above i felt very interesting and when compared to the previous week assignments it is easy.I like that in this assignment we are creating our JSON FILE using once own personal information And finally while looping them and printing it gives the result."
      ]
    },
    {
      "cell_type": "markdown",
      "metadata": {
        "id": "x4YiFHMjyeXz"
      },
      "source": [
        "---\n",
        "\n",
        "# Example\n",
        "\n",
        "Below is an example of something similar, but this uses information my and my friend's kids instead of grades."
      ]
    },
    {
      "cell_type": "code",
      "execution_count": null,
      "metadata": {
        "id": "9d7GcpV4yeXz",
        "outputId": "5b9663ec-e3bc-4b61-f40d-38f781cae8c7"
      },
      "outputs": [
        {
          "name": "stdout",
          "output_type": "stream",
          "text": [
            "Hi, my name is Paul. I've got 3 kids. Their names are Ellie, Ada, Teddy.\n",
            "My friend, Anny has 1 kids. That's fewer than me. Their names are 1\n"
          ]
        }
      ],
      "source": [
        "hds5210 = \"\"\"\n",
        "{\n",
        "    \"me\": {\n",
        "        \"name\": \"Paul\",\n",
        "        \"kids\": [\"Ellie\", \"Ada\", \"Teddy\"]\n",
        "    },\n",
        "    \"friend\": {\n",
        "        \"name\": \"Anny\",\n",
        "        \"kids\": [\"Abby\"]\n",
        "    }\n",
        "}\n",
        "\"\"\"\n",
        "\n",
        "import json\n",
        "\n",
        "info = json.loads(hds5210)\n",
        "\n",
        "me = info[\"me\"][\"name\"]\n",
        "my_kids_count = len(info[\"me\"][\"kids\"])\n",
        "kids_list = \", \".join(info[\"me\"][\"kids\"])\n",
        "friend = info[\"friend\"][\"name\"]\n",
        "friends_kid_count = len(info[\"friend\"][\"kids\"])\n",
        "friend_kids = \", \".join(info[\"friend\"][\"kids\"])\n",
        "compare = \"more\" if friends_kid_count > my_kids_count else \"fewer\"\n",
        "\n",
        "print(f\"Hi, my name is {me}. I've got {my_kids_count} kids. Their names are {kids_list}.\")\n",
        "print(f\"My friend, {friend} has {friends_kid_count} kids. That's {compare} than me. Their names are {friends_kid_count}\")"
      ]
    }
  ],
  "metadata": {
    "kernelspec": {
      "display_name": "Python 3",
      "language": "python",
      "name": "python3"
    },
    "language_info": {
      "codemirror_mode": {
        "name": "ipython",
        "version": 3
      },
      "file_extension": ".py",
      "mimetype": "text/x-python",
      "name": "python",
      "nbconvert_exporter": "python",
      "pygments_lexer": "ipython3",
      "version": "3.9.16"
    },
    "colab": {
      "provenance": []
    }
  },
  "nbformat": 4,
  "nbformat_minor": 0
}