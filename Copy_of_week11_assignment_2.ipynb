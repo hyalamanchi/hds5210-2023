{
  "cells": [
    {
      "cell_type": "markdown",
      "metadata": {
        "id": "qtIcLbfOhT12"
      },
      "source": [
        "# Week 11 Assignment\n",
        "\n",
        "\n",
        "Please do the programming exercise and verify that your code works using the tests, then think about your final project and fill out the questions in the second part.\n",
        "\n",
        "---\n",
        "---"
      ]
    },
    {
      "cell_type": "markdown",
      "metadata": {
        "id": "wAX4g7zNhT14"
      },
      "source": [
        "### 47.1: Filtering and summarizing data\n",
        "\n",
        "For this work, you'll find a data file in `https://hds5210-data.s3.amazonaws.com/complications_all.csv`.\n",
        "\n",
        "Read in the data file and create a variable called `mo_hospitals` that contains a data frame from the `complications_all.csv` file, filtered down to only contain those hospitals from the state of Missouri (MO).\n",
        "\n",
        "Then aggregate that data by hospital into a variable named `mo_summary`.  There are some key fields that we want to summarize:\n",
        "* We want to know the earliest date that each hospital was participating in any program\n",
        "* We want to know the latest date that each hospital stopped participating in any program\n",
        "* We want to know the total number of patients in the denominators of these programs\n",
        "\n",
        "Some things to note:\n",
        "* You will need to convert the `Start Date` and `End Date` to actual datetime fields\n",
        "* You will need to clean up and convert the `Denominator` field to just be numeric - the rule that you should use it to simply remove any records where the `Denominator` is `'Not Available'`\n",
        "\n",
        "\n",
        "The final result of this step should be a new data frame called `mo_summary` that contains one row for each hospital and contains the min start date, max end date, and total denominator.  Use the names `start_date`, `end_date`, and `number` for those columns in `mo_summary`.\n",
        "\n",
        "\n",
        "You do not need to create your code in the form of a function, just make sure your variable names match what I've described above so the tests work."
      ]
    },
    {
      "cell_type": "code",
      "execution_count": null,
      "metadata": {
        "id": "1c0AnKezhT14"
      },
      "outputs": [],
      "source": [
        "import pandas as pd\n",
        "# This is just to show you the name to use for the variable you need to create for this step to pass.\n",
        "all_hospitals = pd.read_csv('https://hds5210-data.s3.amazonaws.com/complications_all.csv')\n"
      ]
    },
    {
      "cell_type": "code",
      "execution_count": null,
      "metadata": {
        "id": "py0cV3HEhT15",
        "outputId": "33e77bfb-19f0-49dc-d41f-0c5a8babbdca",
        "colab": {
          "base_uri": "https://localhost:8080/"
        }
      },
      "outputs": [
        {
          "output_type": "stream",
          "name": "stdout",
          "text": [
            "                                    start_date   end_date  number\n",
            "Facility Name                                                    \n",
            "BARNES JEWISH HOSPITAL              2015-04-01 2018-06-30  131313\n",
            "BARNES-JEWISH ST PETERS HOSPITAL    2015-04-01 2018-06-30   15668\n",
            "BARNES-JEWISH WEST COUNTY HOSPITAL  2015-04-01 2018-06-30    9622\n",
            "BATES COUNTY MEMORIAL HOSPITAL      2015-07-01 2018-06-30    3117\n",
            "BELTON REGIONAL MEDICAL CENTER      2015-04-01 2018-06-30    9270\n",
            "...                                        ...        ...     ...\n",
            "TRUMAN MEDICAL CENTER LAKEWOOD      2015-04-01 2018-06-30    4297\n",
            "UNIVERSITY OF MISSOURI HEALTH CARE  2015-04-01 2018-06-30   56493\n",
            "WASHINGTON COUNTY MEMORIAL HOSPITAL 2015-07-01 2018-06-30     220\n",
            "WESTERN MISSOURI MEDICAL CENTER     2015-04-01 2018-06-30    7254\n",
            "WRIGHT MEMORIAL HOSPITAL            2015-07-01 2018-06-30     198\n",
            "\n",
            "[108 rows x 3 columns]\n"
          ]
        }
      ],
      "source": [
        "#importing the pandas as pd\n",
        "import pandas as pd\n",
        "\n",
        "# Read in to the data file by using pd.read\n",
        "url = \"https://hds5210-data.s3.amazonaws.com/complications_all.csv\"\n",
        "df = pd.read_csv(url)\n",
        "\n",
        "\n",
        "# Filtering data for hospitals in Missouri\n",
        "mo_hospitals = df[df['State'] == 'MO'].copy()\n",
        "\n",
        "# Converting Start Date and End Date to datetime\n",
        "mo_hospitals['Start Date'] = pd.to_datetime(mo_hospitals['Start Date'])\n",
        "mo_hospitals['End Date'] = pd.to_datetime(mo_hospitals['End Date'])\n",
        "\n",
        "# Cleaning up and convert Denominator to numeric\n",
        "mo_hospitals = mo_hospitals[mo_hospitals['Denominator'] != 'Not Available']\n",
        "mo_hospitals['Denominator'] = pd.to_numeric(mo_hospitals['Denominator'], errors='coerce')\n",
        "\n",
        "# Aggregating data\n",
        "mo_summary = mo_hospitals.groupby('Facility Name').agg({\n",
        "        'Start Date': 'min',\n",
        "        'End Date': 'max',\n",
        "        'Denominator': 'sum'\n",
        "    })\n",
        "\n",
        "# Renaming columns\n",
        "mo_summary = mo_summary.rename(columns={'Start Date': 'start_date', 'End Date': 'end_date', 'Denominator': 'number'})\n",
        "\n",
        "# print the summary\n",
        "print(mo_summary)"
      ]
    },
    {
      "cell_type": "code",
      "execution_count": null,
      "metadata": {
        "id": "WZuou1yEhT15"
      },
      "outputs": [],
      "source": [
        "assert(mo_summary['number'].sum() == 1766908)\n",
        "assert(mo_summary['start_date'].min() == pd.Timestamp(2015,4,1))\n",
        "assert(mo_summary['end_date'].max() == pd.Timestamp(2018,6,30))\n",
        "assert(mo_summary.shape == (108,3))\n",
        "assert(mo_summary.loc['BARNES JEWISH HOSPITAL'].number == 131313)\n",
        "assert(mo_summary.loc['BOONE HOSPITAL CENTER'].number == 63099)"
      ]
    },
    {
      "cell_type": "markdown",
      "metadata": {
        "id": "z-3MXkCthT15"
      },
      "source": [
        "---\n",
        "\n",
        "### 47.2 Planning your final project\n",
        "\n",
        "You should be thinking about the things we've been learning and how you can apply them to your final project.  Use the rubric to help guid your thinking and then answer the questions below.  This is meant as a guide to help you think through what you will do."
      ]
    },
    {
      "cell_type": "markdown",
      "metadata": {
        "id": "POqN5hRWhT15"
      },
      "source": [
        "#### A) Data Access\n",
        "\n",
        "Your project should include data from at least three distinct types of sources.  For example: AWS S3, Relational Databases, Internet, Web Services, local files.  List what data sources you're planning to use."
      ]
    },
    {
      "cell_type": "markdown",
      "metadata": {
        "id": "H5Vt4CeAhT15"
      },
      "source": [
        "**Double-click to enter your answer**\n",
        "https://www.kaggle.com/datasets/tanmoyx/covid19-patient-precondition-dataset/\n"
      ]
    },
    {
      "cell_type": "markdown",
      "metadata": {
        "id": "r-no_bt_hT15"
      },
      "source": [
        "#### B. Data Formats\n",
        "\n",
        "Your project should include data that comes in different file formats.  For example: HL7, EDI, HTML, CSV, Excel, JSON, XML.  List what data formats you're planning to use."
      ]
    },
    {
      "cell_type": "markdown",
      "metadata": {
        "id": "JeG2nZoshT15"
      },
      "source": [
        "**Double-click to enter your answer**\n",
        "I Think CSV ,EXCEL,JSON,HTML.\n",
        "\n",
        "Put your answer here\n"
      ]
    },
    {
      "cell_type": "markdown",
      "metadata": {
        "id": "pwkea53GhT16"
      },
      "source": [
        "#### C. Objective\n",
        "\n",
        "What purpose would your project serve in a real work setting?  Take a couple of paragraphs to write down why this is an interesting product."
      ]
    },
    {
      "cell_type": "markdown",
      "metadata": {
        "id": "N5OCCVKXhT16"
      },
      "source": [
        "**Double-click to enter your answer**\n",
        "\n",
        "The covid 19 dataset serve in a real work setting, The COVID-19 patient precondition dataset compiled by Tanmoy open sources data on various pre-existing conditions for patients who contracted COVID-19. As the pandemic has illustrated, pre-existing conditions can significantly impact health outcomes from COVID-19 infection. This dataset provides an opportunity for public health officials, medical researchers, and policy makers to conduct detailed analysis on how different comorbidities may exacerbate COVID-19.\n",
        "\n",
        "Specifically, the variables included in the dataset allow for investigation into how factors like patient age, gender, type of precondition, number of preconditions, and smoking status may influence COVID-19 progression and mortality. Statistical analysis and machine learning modeling using this dataset could uncover important relationships to help clinicians better understand COVID-19 risks depending on a patient's preconditions. Additionally, the insights gained could inform resource allocation and medical care prioritization for vulnerable populations during a pandemic. Overall, open sourcing this precondition data enables critical research to manage public health emergencies like COVID-19 more effectively.\n",
        "\n",
        "\n",
        "\n",
        "\n"
      ]
    },
    {
      "cell_type": "markdown",
      "metadata": {
        "id": "caTjvknahT16"
      },
      "source": [
        "\n",
        "\n",
        "---\n",
        "\n",
        "\n",
        "\n",
        "## Submit your work via GitHub as normal\n"
      ]
    }
  ],
  "metadata": {
    "kernelspec": {
      "display_name": "Python 3",
      "language": "python",
      "name": "python3"
    },
    "language_info": {
      "codemirror_mode": {
        "name": "ipython",
        "version": 3
      },
      "file_extension": ".py",
      "mimetype": "text/x-python",
      "name": "python",
      "nbconvert_exporter": "python",
      "pygments_lexer": "ipython3",
      "version": "3.9.16"
    },
    "colab": {
      "provenance": [],
      "toc_visible": true
    }
  },
  "nbformat": 4,
  "nbformat_minor": 0
}